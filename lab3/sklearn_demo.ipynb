{
 "cells": [
  {
   "cell_type": "code",
   "execution_count": 38,
   "id": "32f3088b-e2b4-4a62-b450-807eaefa3cfc",
   "metadata": {},
   "outputs": [],
   "source": [
    "# the original code is from https://github.com/bhaswara/CV_24T3/tree/main, created by Irfan Dwiki Bhaswaraimport\n",
    "import cv2\n",
    "import pandas as pd\n",
    "import numpy as np\n",
    "import matplotlib.pyplot as plt\n",
    "\n",
    "from sklearn.neighbors import KNeighborsClassifier\n",
    "from sklearn.tree import DecisionTreeClassifier\n",
    "from sklearn.linear_model import SGDClassifier\n",
    "\n",
    "from sklearn.model_selection import train_test_split\n",
    "\n",
    "from sklearn.metrics import accuracy_score, classification_report"
   ]
  },
  {
   "cell_type": "code",
   "execution_count": 39,
   "id": "377d077b-1496-41a6-b6cc-81bf46a653e6",
   "metadata": {},
   "outputs": [
    {
     "name": "stdout",
     "output_type": "stream",
     "text": [
      "Digits dictionary content \n",
      "dict_keys(['data', 'target', 'frame', 'feature_names', 'target_names', 'images', 'DESCR'])\n"
     ]
    }
   ],
   "source": [
    "# In this demo, we are using digits dataset in scikit-learn\n",
    "from sklearn import datasets\n",
    "\n",
    "digits = datasets.load_digits()\n",
    "print('Digits dictionary content \\n{}'.format(digits.keys()))"
   ]
  },
  {
   "cell_type": "code",
   "execution_count": 40,
   "id": "730012fd-557f-48d8-b7d7-46aa68396550",
   "metadata": {},
   "outputs": [
    {
     "data": {
      "image/png": "[encoded data removed]",
      "text/plain": [
       "<Figure size 640x480 with 12 Axes>"
      ]
     },
     "metadata": {},
     "output_type": "display_data"
    }
   ],
   "source": [
    "images_and_labels = list(zip(digits.images, digits.target))\n",
    "for index, (data, label) in enumerate(images_and_labels[:12]):\n",
    "    imgdim=int(np.sqrt(digits.data[index].shape[0]))\n",
    "    img=np.reshape(digits.data[index],(imgdim,imgdim))\n",
    "    plt.subplot(2, 6, index + 1)\n",
    "    plt.axis('off')\n",
    "    plt.imshow(img, cmap=plt.cm.gray_r, interpolation='nearest')\n",
    "    plt.title('Training: %i' % label)"
   ]
  },
  {
   "cell_type": "code",
   "execution_count": 41,
   "id": "bc845462-a3a3-446c-9157-5ea8764d42d7",
   "metadata": {},
   "outputs": [
    {
     "name": "stdout",
     "output_type": "stream",
     "text": [
      "Training data and target sizes: \n",
      "(1347, 64), (1347,)\n",
      "Test data and target sizes: \n",
      "(450, 64), (450,)\n"
     ]
    }
   ],
   "source": [
    "X_train, X_test, y_train, y_test = train_test_split(digits.data,digits.target,test_size=0.25)\n",
    "print('Training data and target sizes: \\n{}, {}'.format(X_train.shape,y_train.shape))\n",
    "print('Test data and target sizes: \\n{}, {}'.format(X_test.shape,y_test.shape))"
   ]
  },
  {
   "cell_type": "code",
   "execution_count": 42,
   "id": "a9ba383a-2bc7-4895-a457-705c4a04da7e",
   "metadata": {},
   "outputs": [
    {
     "name": "stdout",
     "output_type": "stream",
     "text": [
      "Accuracy: 0.8511\n",
      "              precision    recall  f1-score   support\n",
      "\n",
      "           0       0.98      0.98      0.98        46\n",
      "           1       0.88      0.78      0.83        49\n",
      "           2       0.80      0.92      0.85        38\n",
      "           3       0.83      0.75      0.78        51\n",
      "           4       0.88      0.83      0.85        52\n",
      "           5       0.95      0.89      0.92        47\n",
      "           6       0.95      0.89      0.92        44\n",
      "           7       0.90      0.92      0.91        38\n",
      "           8       0.71      0.79      0.75        43\n",
      "           9       0.68      0.81      0.74        42\n",
      "\n",
      "    accuracy                           0.85       450\n",
      "   macro avg       0.86      0.85      0.85       450\n",
      "weighted avg       0.86      0.85      0.85       450\n",
      "\n"
     ]
    }
   ],
   "source": [
    "## Using DT\n",
    "dt = DecisionTreeClassifier()\n",
    "dt.fit(X_train, y_train)\n",
    "\n",
    "dt_predicts = dt.predict(X_test)\n",
    "\n",
    "accuracy = accuracy_score(y_test, dt_predicts)\n",
    "print(f'Accuracy: {accuracy:.4f}')\n",
    "\n",
    "# Classification report\n",
    "print(classification_report(y_test, dt_predicts))"
   ]
  },
  {
   "cell_type": "code",
   "execution_count": 43,
   "id": "f321015e-801f-48d0-9254-e5c20b5eec45",
   "metadata": {},
   "outputs": [
    {
     "name": "stdout",
     "output_type": "stream",
     "text": [
      "Accuracy Score: 0.9933\n",
      "              precision    recall  f1-score   support\n",
      "\n",
      "           0       1.00      1.00      1.00        46\n",
      "           1       0.98      1.00      0.99        49\n",
      "           2       1.00      0.97      0.99        38\n",
      "           3       0.98      1.00      0.99        51\n",
      "           4       1.00      1.00      1.00        52\n",
      "           5       1.00      1.00      1.00        47\n",
      "           6       1.00      1.00      1.00        44\n",
      "           7       0.97      1.00      0.99        38\n",
      "           8       1.00      0.98      0.99        43\n",
      "           9       1.00      0.98      0.99        42\n",
      "\n",
      "    accuracy                           0.99       450\n",
      "   macro avg       0.99      0.99      0.99       450\n",
      "weighted avg       0.99      0.99      0.99       450\n",
      "\n"
     ]
    }
   ],
   "source": [
    "## Using KNN\n",
    "knn = KNeighborsClassifier()\n",
    "knn.fit(X_train, y_train)\n",
    "\n",
    "knn_predicts = knn.predict(X_test)\n",
    "\n",
    "accuracy = accuracy_score(y_test, knn_predicts)\n",
    "print(f'Accuracy Score: {accuracy:.4f}')\n",
    "\n",
    "# Classification report\n",
    "print(classification_report(y_test, knn_predicts))"
   ]
  },
  {
   "cell_type": "code",
   "execution_count": 44,
   "id": "a36c02b6-cb31-4ce5-87ef-68cf4ce0ef22",
   "metadata": {},
   "outputs": [
    {
     "name": "stdout",
     "output_type": "stream",
     "text": [
      "Accuracy: 0.9467\n",
      "              precision    recall  f1-score   support\n",
      "\n",
      "           0       1.00      0.98      0.99        46\n",
      "           1       0.90      0.94      0.92        49\n",
      "           2       1.00      0.97      0.99        38\n",
      "           3       0.96      0.86      0.91        51\n",
      "           4       0.94      0.94      0.94        52\n",
      "           5       1.00      0.98      0.99        47\n",
      "           6       1.00      0.95      0.98        44\n",
      "           7       1.00      1.00      1.00        38\n",
      "           8       0.97      0.88      0.93        43\n",
      "           9       0.76      0.98      0.85        42\n",
      "\n",
      "    accuracy                           0.95       450\n",
      "   macro avg       0.95      0.95      0.95       450\n",
      "weighted avg       0.95      0.95      0.95       450\n",
      "\n"
     ]
    }
   ],
   "source": [
    "sgd = SGDClassifier()\n",
    "sgd.fit(X_train, y_train)\n",
    "\n",
    "sgd_predicts = sgd.predict(X_test)\n",
    "\n",
    "accuracy = accuracy_score(y_test, sgd_predicts)\n",
    "print(f'Accuracy: {accuracy:.4f}')\n",
    "\n",
    "# Classification report\n",
    "print(classification_report(y_test, sgd_predicts))"
   ]
  },
  {
   "cell_type": "code",
   "execution_count": 45,
   "id": "8b8742a8-62f5-4450-9ec6-59693aa00f50",
   "metadata": {},
   "outputs": [
    {
     "data": {
      "text/plain": [
       "\"\\nHints and Steps reading Chinese MNIST\\n(1) Use csv file provided to split the dataset according to its classes. \\n    You can create function which take the image path as well as class label\\n(2) To read the image, make sure to read it in grayscale and don't forget to flatten it.\\n(3) Use train_test_split from sklearn to split data. You can directly use your csv file into this. \\n    Make sure to set the random_state to be the same and don't forget to use stratify so your classes have the same number.\\n    You can define the number of training and testing set as well\\n\""
      ]
     },
     "execution_count": 45,
     "metadata": {},
     "output_type": "execute_result"
    }
   ],
   "source": [
    "'''\n",
    "Hints and Steps reading Chinese MNIST\n",
    "(1) Use csv file provided to split the dataset according to its classes. \n",
    "    You can create function which take the image path as well as class label\n",
    "(2) To read the image, make sure to read it in grayscale and don't forget to flatten it.\n",
    "(3) Use train_test_split from sklearn to split data. You can directly use your csv file into this. \n",
    "    Make sure to set the random_state to be the same and don't forget to use stratify so your classes have the same number.\n",
    "    You can define the number of training and testing set as well\n",
    "'''"
   ]
  },
  {
   "cell_type": "code",
   "execution_count": 46,
   "id": "820bff5b-95ff-4866-a070-418c4511b9a0",
   "metadata": {},
   "outputs": [
    {
     "data": {
      "text/plain": [
       "'\\nAbout Chinese MNIST dataset\\nhttps://www.kaggle.com/datasets/gpreda/chinese-mnist/data\\n\\nOne hundred Chinese nationals took part in data collection. Each participant wrote with a standard black ink pen all 15 numbers \\nin a table with 15 designated regions drawn on a white A4 paper. \\nThis process was repeated 10 times with each participant. Each sheet was scanned at the resolution of 300x300 pixels.\\n\\nCode is used to map each single character and it will be the one used for the target variable.\\nEach character is present 1K times (15 characters = 15K entries) with own hand written image.\\nThe total number of classes to predict are 15.\\n\\n'"
      ]
     },
     "execution_count": 46,
     "metadata": {},
     "output_type": "execute_result"
    }
   ],
   "source": [
    "'''\n",
    "About Chinese MNIST dataset\n",
    "https://www.kaggle.com/datasets/gpreda/chinese-mnist/data\n",
    "\n",
    "One hundred Chinese nationals took part in data collection. Each participant wrote with a standard black ink pen all 15 numbers \n",
    "in a table with 15 designated regions drawn on a white A4 paper. \n",
    "This process was repeated 10 times with each participant. Each sheet was scanned at the resolution of 300x300 pixels.\n",
    "\n",
    "Code is used to map each single character and it will be the one used for the target variable.\n",
    "Each character is present 1K times (15 characters = 15K entries) with own hand written image.\n",
    "The total number of classes to predict are 15.\n",
    "\n",
    "'''"
   ]
  },
  {
   "cell_type": "code",
   "execution_count": null,
   "id": "42e1aa3f",
   "metadata": {},
   "outputs": [],
   "source": []
  }
 ],
 "metadata": {
  "kernelspec": {
   "display_name": "unsw",
   "language": "python",
   "name": "python3"
  },
  "language_info": {
   "codemirror_mode": {
    "name": "ipython",
    "version": 3
   },
   "file_extension": ".py",
   "mimetype": "text/x-python",
   "name": "python",
   "nbconvert_exporter": "python",
   "pygments_lexer": "ipython3",
   "version": "3.9.12"
  }
 },
 "nbformat": 4,
 "nbformat_minor": 5
}
